{
 "cells": [
  {
   "cell_type": "markdown",
   "id": "b1cc79c1",
   "metadata": {},
   "source": [
    "<div style=\"direction:rtl; text-align:right; font-size: 20px; color:black\">\n",
    "     تمرین دوم، بخش دوم (بهینه‌سازی برنامه‌ریزی تولید چند دوره‌ای با استفاده از linear programming)\n",
    "</div>"
   ]
  },
  {
   "cell_type": "markdown",
   "id": "fb900340",
   "metadata": {},
   "source": [
    "<div style=\"direction:rtl; text-align:right; font-size: 15px; color:blue\">\n",
    "     در اینجا متغیر‌های تصمیم‌گیری به صورت ایکس با سه عدد به‌عنوان زیروند مشخص شده است. که این اعداد به ترتیب از چپ به راست نشان‌دهنده‌ی شماره‌ی محصول، شماره‌ی ماشین و شماره‌ی دوره می‌باشد.</br>\n",
    "    ستون زمان نشان‌دهنده‌ی زمانی است که هرمحصول برای هردستگاه در هردوره نیاز دارد.</br>\n",
    "    ستون نیروی کار نشان‌دهنده‌ی تعداد نیروی کاری که برای هرمحصول نیاز است و ستون ذخیره‌سازی میزان فضای لازم برای ذخیره سازی هرمحصول، می‌باشد.</br>\n",
    "    همچین ستون تقاضا پیش بینی تقاضا برای هرمحصول در هردوره می‌باشد.\n",
    "    \n",
    "</div>"
   ]
  },
  {
   "cell_type": "markdown",
   "id": "d61e0704",
   "metadata": {},
   "source": [
    "<div style=\"direction:rtl; text-align:right; font-size: 15px; color:black\">\n",
    "     جدولی که در زیر نشان داده شده، مطابق توضیحات بالا بااستفاده از متغیرهای لازم پرشده است.\n",
    "</div>"
   ]
  },
  {
   "cell_type": "code",
   "execution_count": 1,
   "id": "a33a3dd9",
   "metadata": {},
   "outputs": [],
   "source": [
    "from IPython.display import Image"
   ]
  },
  {
   "cell_type": "code",
   "execution_count": 2,
   "id": "26e689a8",
   "metadata": {},
   "outputs": [
    {
     "data": {
      "text/html": [
       "<img src=\"IMG_1829.jpg\" width=\"500\" height=\"600\"/>"
      ],
      "text/plain": [
       "<IPython.core.display.Image object>"
      ]
     },
     "execution_count": 2,
     "metadata": {},
     "output_type": "execute_result"
    }
   ],
   "source": [
    "Image(url=\"IMG_1829.jpg\", width=500, height=600)"
   ]
  },
  {
   "cell_type": "markdown",
   "id": "ec1e958a",
   "metadata": {},
   "source": [
    "<div style=\"direction:rtl; text-align:right; font-size: 15px; color:blue\">\n",
    "     تابع هدف حداکثر کردن سود می‌باشد که در بالا نحوه‌ی محاسبه‌ی آن نوشته شده است.\n",
    "</div>"
   ]
  },
  {
   "cell_type": "markdown",
   "id": "f2c40365",
   "metadata": {},
   "source": [
    "<div style=\"direction:rtl; text-align:right; font-size: 15px; color:black\">\n",
    "     در ادامه محدودیت‌هایی که نیاز است اعمال شده آورده شده است: </br>\n",
    "     این محدودیت‌ها شامل حداکثر زمان دردسترس برای هردستگاه در هردوره، حداکثر نیروی کار موجود در هردوره و حداکثر ظرفیت ذخیره‌سازی می باشد. </br>\n",
    "     هم‌چنین باید تقاضای هرمحصول در هردوره را پیش بینی کرده و به آن میزان کالا تولید کنیم.</br>\n",
    "     در اینجا موجودی محصول‌ها صفر در نظر گرفته شده است. اما در حالت کلی باید جمع موجودی و تولیدی هر محصول برابر با تقاضای آن باشد.\n",
    "</div>"
   ]
  },
  {
   "cell_type": "code",
   "execution_count": 3,
   "id": "c500106f",
   "metadata": {},
   "outputs": [
    {
     "data": {
      "text/html": [
       "<img src=\"IMG_1828.jpg\" width=\"500\" height=\"600\"/>"
      ],
      "text/plain": [
       "<IPython.core.display.Image object>"
      ]
     },
     "execution_count": 3,
     "metadata": {},
     "output_type": "execute_result"
    }
   ],
   "source": [
    "Image(url=\"IMG_1828.jpg\", width=500, height=600)"
   ]
  },
  {
   "cell_type": "markdown",
   "id": "a7b5c468",
   "metadata": {},
   "source": [
    "<div style=\"direction:rtl; text-align:right; font-size: 15px; color:blue\">\n",
    "     \n",
    "</div>"
   ]
  },
  {
   "cell_type": "markdown",
   "id": "a949e705",
   "metadata": {},
   "source": [
    "<div style=\"direction:rtl; text-align:right; font-size: 20px; color:blue\">\n",
    "     جمع‌آوری داده:\n",
    "</div>"
   ]
  },
  {
   "cell_type": "markdown",
   "id": "3e9722c9",
   "metadata": {},
   "source": [
    "<div style=\"direction:rtl; text-align:right; font-size: 15px; color:black\">\n",
    "     در اینجا نشان می‌دهیم که سود حاصل از هر محصول چقدر است:\n",
    "</div>"
   ]
  },
  {
   "cell_type": "code",
   "execution_count": 4,
   "id": "ac7e75a4",
   "metadata": {},
   "outputs": [],
   "source": [
    "s1 = 20\n",
    "s2 = 22\n",
    "s3 = 18"
   ]
  },
  {
   "cell_type": "markdown",
   "id": "8c79abe9",
   "metadata": {},
   "source": [
    "<div style=\"direction:rtl; text-align:right; font-size: 15px; color:black\">\n",
    "     در اینجا نشان می‌دهیم که مدت زمان لازم برای تولید هر محصول با هر دستگاه چقدر است، برای مثال، دو زمان اول مربوط به محصول اول با دستگاه‌های ۱ و ۲ است:\n",
    "</div>"
   ]
  },
  {
   "cell_type": "code",
   "execution_count": 5,
   "id": "b7bc9cf8",
   "metadata": {},
   "outputs": [],
   "source": [
    "t1 = 4\n",
    "t2 = 5\n",
    "t3 = 4\n",
    "t4 = 3\n",
    "t5 = 3\n",
    "t6 = 2"
   ]
  },
  {
   "cell_type": "markdown",
   "id": "cb372ae8",
   "metadata": {},
   "source": [
    "<div style=\"direction:rtl; text-align:right; font-size: 15px; color:black\">\n",
    "     در اینجا نشان می‌دهیم که تعداد نیروی کار لازم برای تولید هر محصول چقدر است:\n",
    "</div>"
   ]
  },
  {
   "cell_type": "code",
   "execution_count": 6,
   "id": "9c5867fc",
   "metadata": {},
   "outputs": [],
   "source": [
    "p1 = 10\n",
    "p2 = 11\n",
    "p3 = 9"
   ]
  },
  {
   "cell_type": "markdown",
   "id": "b612cf37",
   "metadata": {},
   "source": [
    "<div style=\"direction:rtl; text-align:right; font-size: 15px; color:black\">\n",
    "     در اینجا نشان می‌دهیم که حجم لازم برای ذخیره‌ی هر محصول چقدر است:\n",
    "</div>"
   ]
  },
  {
   "cell_type": "code",
   "execution_count": 7,
   "id": "185007cf",
   "metadata": {},
   "outputs": [],
   "source": [
    "r1 = 5\n",
    "r2 = 7\n",
    "r3 = 6"
   ]
  },
  {
   "cell_type": "markdown",
   "id": "f0c62f6b",
   "metadata": {},
   "source": [
    "<div style=\"direction:rtl; text-align:right; font-size: 15px; color:black\">\n",
    "     در اینجا در چهار متغیر اول محدودیت زمانی، در دو متغیر بعد محدودیت نیروی کار و در متغیر آخر ظرفیت انبار را نشان می‌دهیم:\n",
    "</div>"
   ]
  },
  {
   "cell_type": "code",
   "execution_count": 8,
   "id": "250e1a99",
   "metadata": {},
   "outputs": [],
   "source": [
    "T1 = 1000  #دستگاه ۱ دوره ۱\n",
    "T2 = 1250  #دستگاه ۱ دوره ۲\n",
    "T3 = 1100  #دستگاه ۲ دوره ۱\n",
    "T4 = 1150  #دستگاه ۲ دوره ۲\n",
    "P1 = 6000  #نیروی کار در دوره ۱\n",
    "P2 = 7000  #نیروی کار در دوره ۲\n",
    "R = 9000   #انبار"
   ]
  },
  {
   "cell_type": "markdown",
   "id": "435a8c0b",
   "metadata": {},
   "source": [
    "<div style=\"direction:rtl; text-align:right; font-size: 15px; color:black\">\n",
    "     در اینجا نشان می‌دهیم که تقاضا برای هر محصول در دوره‌های مختلف چقدر بوده است، به طور مثال L1 نشان دهنده‌ی تقاضای محصول یک در دوره‌ی اول و L2 نشان دهنده‌ی تقاضای محصول یک در دوره‌ی دوم می‌باشد:\n",
    "</div>"
   ]
  },
  {
   "cell_type": "code",
   "execution_count": 9,
   "id": "7f6041e6",
   "metadata": {},
   "outputs": [],
   "source": [
    "L1 = 250  #محصول ۱ دوره ۱\n",
    "L2 = 200  #محصول ۱ دوره ۲\n",
    "L3 = 170  #محصول ۲ دوره ۱\n",
    "L4 = 230  #محصول ۲ دوره ۲\n",
    "L5 = 150  #محصول ۳ دوره ۱\n",
    "L6 = 200  #محصول ۳ دوره ۲"
   ]
  },
  {
   "cell_type": "markdown",
   "id": "e5c905ed",
   "metadata": {},
   "source": [
    "<div style=\"direction:rtl; text-align:right; font-size: 20px; color:blue\">\n",
    "     پیاده سازی:\n",
    "</div>"
   ]
  },
  {
   "cell_type": "code",
   "execution_count": 10,
   "id": "a2af14ec",
   "metadata": {},
   "outputs": [],
   "source": [
    "import pandas as pd\n",
    "from scipy.optimize import linprog"
   ]
  },
  {
   "cell_type": "markdown",
   "id": "bbe5bd90",
   "metadata": {},
   "source": [
    "<div style=\"direction:rtl; text-align:right; font-size: 15px; color:blue\">\n",
    "     ماتریس یک بعدی c، ماتریس ضرائب تابع هدف می‌باشد و چون به دنبال ماکسیمم مقدار تابع هدف هستیم، به صورت منفی ضرائب می‌باشد. \n",
    "</div>"
   ]
  },
  {
   "cell_type": "code",
   "execution_count": 11,
   "id": "07f0f5ac",
   "metadata": {},
   "outputs": [],
   "source": [
    "c = [-s1, -s1, -s1, -s1, -s2, -s2, -s2, -s2, -s3, -s3, -s3, -s3]"
   ]
  },
  {
   "cell_type": "markdown",
   "id": "7a9ec405",
   "metadata": {},
   "source": [
    "<div style=\"direction:rtl; text-align:right; font-size: 15px; color:blue\">\n",
    "     ماتریس دو بعدی A_ub، شامل ضرائب متغییرهای تصمیم گیری در نامعادله‌هایی است که به عنوان محدودیت در بالا آورده شد. هم‌چنین ماتریس یک بعدی B_ub, طرف راست نامعادله‌های بالاست.\n",
    "</div>"
   ]
  },
  {
   "cell_type": "code",
   "execution_count": 12,
   "id": "f1699b8c",
   "metadata": {},
   "outputs": [],
   "source": [
    "A_ub = [[t1,0,0,0,t3,0,0,0,t5,0,0,0],\n",
    "        [0,t1,0,0,0,t3,0,0,0,t5,0,0],\n",
    "        [0,0,t2,0,0,0,t4,0,0,0,t6,0],\n",
    "        [0,0,0,t2,0,0,0,t4,0,0,0,t6],\n",
    "        [p1,0,p1,0,p2,0,p2,0,p3,0,p3,0],\n",
    "        [0,p1,0,p1,0,p2,0,p2,0,p3,0,p3],\n",
    "        [r1,r1,r1,r1,r2,r2,r2,r2,r3,r3,r3,r3]]"
   ]
  },
  {
   "cell_type": "code",
   "execution_count": 13,
   "id": "e4108ca4",
   "metadata": {},
   "outputs": [],
   "source": [
    "B_ub = [T1, T2, T3, T4, P1, P2, R]"
   ]
  },
  {
   "cell_type": "markdown",
   "id": "8ff30a61",
   "metadata": {},
   "source": [
    "<div style=\"direction:rtl; text-align:right; font-size: 15px; color:blue\">\n",
    "     ماتریس دو بعدی A_eq، ماتریسی شامل ضرائب متغییرهای تصمیم گیری در معادله‌های بالاست که به عنوان پیش‌بینی تقاضا در بالا آورده شده است. و همچنین B_eq، طرف راست این معادله‌هاست.\n",
    "</div>"
   ]
  },
  {
   "cell_type": "code",
   "execution_count": 14,
   "id": "4b8e6980",
   "metadata": {},
   "outputs": [],
   "source": [
    "A_eq = [[1,0,1,0,0,0,0,0,0,0,0,0],\n",
    "[0,1,0,1,0,0,0,0,0,0,0,0],\n",
    "[0,0,0,0,1,0,1,0,0,0,0,0],\n",
    "[0,0,0,0,0,1,0,1,0,0,0,0],\n",
    "[0,0,0,0,0,0,0,0,1,0,1,0],\n",
    "[0,0,0,0,0,0,0,0,0,1,0,1]]"
   ]
  },
  {
   "cell_type": "code",
   "execution_count": 15,
   "id": "33fd965b",
   "metadata": {},
   "outputs": [],
   "source": [
    "B_eq = [L1, L2, L3, L4, L5, L6]"
   ]
  },
  {
   "cell_type": "markdown",
   "id": "2d2f94a4",
   "metadata": {},
   "source": [
    "<div style=\"direction:rtl; text-align:right; font-size: 15px; color:blue\">\n",
    "    در اینجا bounds شامل ۱۲ بازه‌ی بزرگتر از صفر است که شرط نامنفی بودن را برای متغییرها اعمال می‌کند.\n",
    "</div>"
   ]
  },
  {
   "cell_type": "code",
   "execution_count": 16,
   "id": "eda8ad9d",
   "metadata": {},
   "outputs": [],
   "source": [
    "bounds = [(0, None),(0, None),(0, None),(0, None),(0, None),(0, None),\n",
    "          (0, None),(0, None),(0, None),(0, None),(0, None),(0, None)]"
   ]
  },
  {
   "cell_type": "code",
   "execution_count": 17,
   "id": "97190749",
   "metadata": {},
   "outputs": [],
   "source": [
    "res = linprog(c, A_ub = A_ub, b_ub = B_ub, A_eq = A_eq, b_eq = B_eq, bounds=bounds, method='highs')"
   ]
  },
  {
   "cell_type": "code",
   "execution_count": 18,
   "id": "1aa7c6e8",
   "metadata": {},
   "outputs": [
    {
     "name": "stdout",
     "output_type": "stream",
     "text": [
      "Optimal values: 24100.0 \n",
      " [192.  162.5  58.   37.5   0.    0.  170.  230.    0.  200.  150.    0. ]\n"
     ]
    }
   ],
   "source": [
    "print('Optimal values:', -res.fun, '\\n', res.x)"
   ]
  },
  {
   "cell_type": "markdown",
   "id": "8db75b86",
   "metadata": {},
   "source": [
    "<div style=\"direction:rtl; text-align:right; font-size: 15px; color:blue\">\n",
    "    نتایج نشان می‌دهد که برای تولید محصول ۱ در دوره‌ی اول استفاده‌از دستگاه یک بهینه‌تر بوده است. همچنین تولید محصول ۲ با دستگاه اول با شرایط و محدودیت‌های موجود امکان پذیر نیست. و برای تولید محصول ۳، استفاده از دستگاه ۲ در دوره‌ی اول و استفاده از دستگاه ۱ در دوره‌ی دوم انتخاب درست‌تری است. با این شرایط و محدودیت‌ها بیشترین سود ممکن نشان داده شده است.\n",
    "</div>"
   ]
  },
  {
   "cell_type": "markdown",
   "id": "c7caf9e5",
   "metadata": {},
   "source": [
    "<div style=\"direction:rtl; text-align:right; font-size: 15px; color:black\">\n",
    "    این اعداد به دست آمده در شرایطی که تنظیم شده، بهترین حالت است. حال با تغییر اعداد و تنظیم محدودیت‌ها به نحوهای دیگر می‌توان به جواب‌های دیگری دست یافت.\n",
    "</div>"
   ]
  },
  {
   "cell_type": "markdown",
   "id": "000bfba0",
   "metadata": {},
   "source": [
    "<div style=\"direction:rtl; text-align:left; font-size: 20px; color:green\">\n",
    "    </br>\n",
    "    </br>\n",
    "    غزال زلفی موصلو 401104146\n",
    "</div>"
   ]
  }
 ],
 "metadata": {
  "kernelspec": {
   "display_name": "Python 3 (ipykernel)",
   "language": "python",
   "name": "python3"
  },
  "language_info": {
   "codemirror_mode": {
    "name": "ipython",
    "version": 3
   },
   "file_extension": ".py",
   "mimetype": "text/x-python",
   "name": "python",
   "nbconvert_exporter": "python",
   "pygments_lexer": "ipython3",
   "version": "3.9.13"
  }
 },
 "nbformat": 4,
 "nbformat_minor": 5
}
